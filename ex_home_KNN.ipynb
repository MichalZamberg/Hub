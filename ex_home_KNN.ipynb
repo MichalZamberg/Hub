{
 "cells": [
  {
   "cell_type": "markdown",
   "id": "ba8b7696-b11b-4ba5-b7b2-f29aff2db668",
   "metadata": {},
   "source": [
    "# K Nearest Neighbours (KNN) – Home Exercise"
   ]
  },
  {
   "cell_type": "markdown",
   "id": "246bb929-6fc9-4df9-96e0-00471906c085",
   "metadata": {
    "slideshow": {
     "slide_type": ""
    },
    "tags": []
   },
   "source": [
    "This is a home excerise for AI-hub internship candidates. Please submit a Jupyter notebook link. Please do not use any AI (e.g. chatGPT) to solve this."
   ]
  },
  {
   "cell_type": "markdown",
   "id": "1193c1af-31c2-402e-9c79-51a84837c827",
   "metadata": {},
   "source": [
    "## A few useful links:\n",
    "•\tSome short data science courses, including intro to Python and Machine learning, can be found on [Kaggle](https://www.kaggle.com/learn)\n",
    "\n",
    "•\tLink to HPC [wiki](https://hpcwiki.weizmann.ac.il/en/home/ai_hub)\n",
    "\n",
    "•\tLink to our WEXAC [Jupyter hub](https://access.wexac.weizmann.ac.il:8000/hub/login) (you'll need a WEXAC user)\n"
   ]
  },
  {
   "cell_type": "markdown",
   "id": "30889359-7794-4088-99db-24b73eb9b293",
   "metadata": {},
   "source": [
    "## Intoduction\n",
    "Short intro to machine learning can be found [here](https://www.youtube.com/watch?v=ukzFI9rgwfU)\n",
    "\n",
    "K Nearest Neighbours: \n",
    "KNN is a simple supervised machine learning (ML) algorithm that can be used for classification or regression tasks, and is also frequently used in missing value imputation. It is based on the idea that the closer an observation is to a set of other observations - it is most likely of a \"similar\" nature. We can therefore classify unforeseen points based on the values of the closest existing points. By choosing K, the user can select the number of nearby observations to use in the algorithm. \n",
    "For classification, a majority vote is often used to determine under which class a new observation should fall into: find the K nearest neighbours, and check out of\n",
    "these K neighbours which label is the most common - and classify the new observation with this label.\n",
    "In this exercise you will implement a K-nearest neighbours algorithm on the famous built-in Iris dataset in Python. We will do this in few small steps. \n",
    "\n",
    "Please write all your answer as functions and not scripts."
   ]
  },
  {
   "cell_type": "markdown",
   "id": "eed63ae1-3585-4d9b-a93b-a0dc9ad18ba9",
   "metadata": {},
   "source": [
    "## Tutorial\n",
    "\n",
    "#### 1. Read the built-in dataset and split it to train and test subsets:\n",
    "\n",
    "a. Write your imports in the first box (add here all the tutorial imports)\n",
    "\n",
    "b. Write a function that will open the dataset and split it to training and testing with the default parameters: random_state=42  (42=\"the meaning of life, the universe, and everything\"...) and test_size=20 (20 samples), and run it (there are other intersting parameters like stratify, please do not change the defults). Print the shape of the four output matrices.\n",
    "\n",
    "c. What are the features and targets in the dataset? \n",
    "\n",
    "d. Load as dataFrame and print the statistical desription of the data.\n",
    "\n",
    "Hints:\n",
    "\n",
    "A. Use the sklearn function which provides an object that has properties `data` and `target` returning the data and the labels respectively, and `feature_names` and `target_names` returning their descriptions (see [here](https://scikit-learn.org/stable/modules/generated/sklearn.datasets.load_iris.html) for more details)\n",
    "\n",
    "B. To split the the data between training and testing, use [train_test_split](https://scikit-learn.org/stable/modules/generated/sklearn.model_selection.train_test_split.html) - and check its parameters."
   ]
  },
  {
   "cell_type": "code",
   "execution_count": 1,
   "id": "b4cb0932-0fd4-4411-8ebe-25c622537ba9",
   "metadata": {},
   "outputs": [],
   "source": [
    "# Imports\n"
   ]
  },
  {
   "cell_type": "code",
   "execution_count": 2,
   "id": "248b8e03-b94e-449e-a6e0-5697a9c9e9e0",
   "metadata": {},
   "outputs": [],
   "source": [
    "# Question 1b \n"
   ]
  },
  {
   "cell_type": "code",
   "execution_count": 3,
   "id": "30a84cd4-d562-4645-892e-5a408042bc6a",
   "metadata": {},
   "outputs": [],
   "source": [
    "# Question 1c\n"
   ]
  },
  {
   "cell_type": "code",
   "execution_count": null,
   "id": "167e8386",
   "metadata": {},
   "outputs": [],
   "source": [
    "# Question 1d"
   ]
  },
  {
   "cell_type": "markdown",
   "id": "f351ab79-c980-4d04-a620-5f4db63ee8b5",
   "metadata": {},
   "source": [
    "#### 2. Distance function: \n",
    "\n",
    "Write a function `calc_distance` that calculates the distance between a given point and an array of points. Different distance measures might be used, pick one that is simple. Test it on this input. A simple test that is easy to check by a calculator (or by hand) is alway recommended in your code. \n",
    "\n",
    "`calc_distance(X_train[0,:], X_train[:4,:])`\n",
    "\n",
    "Hint: find a function that does it (e.g. in sklearn) or write it yourself. Check that the point shape is correct."
   ]
  },
  {
   "cell_type": "code",
   "execution_count": 4,
   "id": "69b6ea73-5412-41b7-96a1-57347e652e16",
   "metadata": {},
   "outputs": [],
   "source": [
    "# Question 2 \n"
   ]
  },
  {
   "cell_type": "markdown",
   "id": "64219604-e98a-4c99-9161-dda391f688e6",
   "metadata": {},
   "source": [
    "#### 3. K Nearest neighbours: \n",
    "\n",
    "Write a function that accepts an input value x0 and searches the training dataset for the k nearest neighbours to x0 using the function you've written, then predicts the input's label according to a majority vote. Test your function for the first row of *the test set* with k=7:\n",
    "\n",
    "knn(k,X_test[0,:] )\n",
    "\n",
    "Hint: \n",
    "You can calculate all the distances and then sort the distances in ascending order. Then, choose the k first elements. With these k nearest neighbours, do the \"voting\", i.e. find the most common label amongst them. \n"
   ]
  },
  {
   "cell_type": "code",
   "execution_count": 5,
   "id": "4ee41b31-28b5-472b-b472-47277513ab5a",
   "metadata": {},
   "outputs": [],
   "source": [
    "# Question 3\n"
   ]
  },
  {
   "cell_type": "markdown",
   "id": "64d084ca-688f-46a0-9b4d-9b4c5afb6b25",
   "metadata": {},
   "source": [
    "#### 4. Accuracy:\n",
    "\n",
    "a. Calculate the accuracy (as a percentage) of the above prediction using the test dataset. Run it for k=7.\n",
    "\n",
    "Hint: \n",
    "Calculate the prediction given to every element of the test data and compare it to the expected labels from the test. Calculate the fraction of correctly predicted items to the overall number of items.\n",
    "\n",
    "b. Think about the time for training and for testing. Is this method efficient for large dataset with many samples and features? Why?\n"
   ]
  },
  {
   "cell_type": "code",
   "execution_count": 6,
   "id": "9c4780f4-b9dc-4d1f-9fba-d8d5d587e250",
   "metadata": {},
   "outputs": [],
   "source": [
    "# Quesion 4 \n"
   ]
  },
  {
   "cell_type": "markdown",
   "id": "14e83c24-9d70-4f7d-bbd0-a7e6a8ab9b91",
   "metadata": {},
   "source": [
    "##### Answer 4: \n"
   ]
  },
  {
   "cell_type": "markdown",
   "id": "a83189aa-326f-4632-b9f0-4501df5505dd",
   "metadata": {},
   "source": [
    "#### 5. Dependence on k:\n",
    "\n",
    "Write a function that calculates the accuracy as a function of k and plots accuracy vs. k.\n",
    "\n",
    "Hint: use `plot` function in `matplotlib.pyplot`.\n"
   ]
  },
  {
   "cell_type": "code",
   "execution_count": 7,
   "id": "1a7e6c9e-c245-4140-99f3-da6408a014df",
   "metadata": {},
   "outputs": [],
   "source": [
    "# Question 5 "
   ]
  },
  {
   "cell_type": "markdown",
   "id": "16832fc7-6c4b-4757-84a3-b78b28b41bdc",
   "metadata": {},
   "source": [
    "## 6.  Main function: \n",
    "\n",
    "a. Write a main function that contains loading the data and calculating the accuracy as a function of k (k=1,2,..15). \n",
    "\n",
    "b. Run it 20 times to check for variations (with random_state=None) with one plot of mean and STD as an output. \n",
    "\n",
    "c. What do you learn from it? Which values of k are better?\n",
    "\n",
    "Hint: Can you see a differnce between odd and even values of k?"
   ]
  },
  {
   "cell_type": "code",
   "execution_count": 8,
   "id": "b99b0c3e-4e43-44a6-992e-26c8c1dac7d7",
   "metadata": {},
   "outputs": [],
   "source": [
    "# Question 6a\n",
    "\n"
   ]
  },
  {
   "cell_type": "code",
   "execution_count": 9,
   "id": "460d30b3-bacb-4144-9023-a6ecc3ab31da",
   "metadata": {},
   "outputs": [],
   "source": [
    "# Question 6b\n"
   ]
  },
  {
   "cell_type": "markdown",
   "id": "23e77c9e-5903-44b8-ae99-742fc0d71955",
   "metadata": {},
   "source": [
    "##### Answer 6c: \n"
   ]
  },
  {
   "cell_type": "markdown",
   "id": "6266a7fc-a158-4040-b9b1-3791e7bc95c8",
   "metadata": {},
   "source": [
    "#### 7. Scikit-learn KNN classifier:\n",
    "\n",
    "a. Use sklearn’s [KNN classifier](https://scikit-learn.org/stable/modules/generated/sklearn.neighbors.KNeighborsClassifier.html) to write the function calc_accuracy_sklearn that Calculate the accuracy (as a percentage) on the test data. Run it for k=7 and compare the result with question 4. \n",
    "\n",
    "b. What are the advantages of using the sklearn module for such a simple classifier?"
   ]
  },
  {
   "cell_type": "code",
   "execution_count": 10,
   "id": "08affcda-e7a6-46b8-b5a0-01356524168b",
   "metadata": {},
   "outputs": [],
   "source": [
    "# Question 7a\n"
   ]
  },
  {
   "cell_type": "markdown",
   "id": "48b165a9-8751-465f-9e17-67f5978e47fe",
   "metadata": {},
   "source": [
    "##### Answer 7b:\n"
   ]
  },
  {
   "cell_type": "markdown",
   "id": "7ebf8695-0f87-4bda-9a06-94d0586dd47d",
   "metadata": {},
   "source": [
    "#### 8. Scatter plot:\n",
    "\n",
    "a. Plot the dataset as a scatter plot for features 0 and 2 setting the colors of the points in the plot based on their label, and write the feature names on the axis.\n",
    "\n",
    "b. What can you learn from this plot?\n",
    "\n",
    "c. Bonus (optional): plot the boundary display for features 0 and 2 using [DecisionBoundaryDisplay](https://scikit-learn.org/stable/modules/generated/sklearn.inspection.DecisionBoundaryDisplay.html)"
   ]
  },
  {
   "cell_type": "code",
   "execution_count": 11,
   "id": "3452d268-ef01-45d2-a57f-a6bfeb8d5094",
   "metadata": {},
   "outputs": [],
   "source": [
    "# Question 8a\n"
   ]
  },
  {
   "cell_type": "markdown",
   "id": "b00d9e26-f984-4d7f-889f-1a2319fe1e5b",
   "metadata": {},
   "source": [
    "##### Answer 8b\n",
    "\n"
   ]
  },
  {
   "cell_type": "code",
   "execution_count": 12,
   "id": "e94e4ea2-0e85-4ed0-b0af-69924b177779",
   "metadata": {},
   "outputs": [],
   "source": [
    "# 8c\n"
   ]
  },
  {
   "cell_type": "code",
   "execution_count": null,
   "id": "e22ef330",
   "metadata": {},
   "outputs": [],
   "source": []
  }
 ],
 "metadata": {
  "kernelspec": {
   "display_name": "aihub_env",
   "language": "python",
   "name": "aihub_env"
  },
  "language_info": {
   "codemirror_mode": {
    "name": "ipython",
    "version": 3
   },
   "file_extension": ".py",
   "mimetype": "text/x-python",
   "name": "python",
   "nbconvert_exporter": "python",
   "pygments_lexer": "ipython3",
   "version": "3.10.11"
  }
 },
 "nbformat": 4,
 "nbformat_minor": 5
}
