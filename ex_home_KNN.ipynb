{
 "cells": [
  {
   "cell_type": "markdown",
   "id": "ba8b7696-b11b-4ba5-b7b2-f29aff2db668",
   "metadata": {},
   "source": [
    "# K Nearest Neighbours (KNN) – Home Exercise"
   ]
  },
  {
   "cell_type": "markdown",
   "id": "246bb929-6fc9-4df9-96e0-00471906c085",
   "metadata": {
    "slideshow": {
     "slide_type": ""
    },
    "tags": []
   },
   "source": [
    "This is a home excerise for AI-hub internship candidates. Please submit a Jupyter notebook link. Please do not use any AI (e.g. chatGPT) to solve this."
   ]
  },
  {
   "cell_type": "markdown",
   "id": "1193c1af-31c2-402e-9c79-51a84837c827",
   "metadata": {},
   "source": [
    "## A few useful links:\n",
    "•\tSome short data science courses, including intro to Python and Machine learning, can be found on [Kaggle](https://www.kaggle.com/learn)\n",
    "\n",
    "•\tLink to HPC [wiki](https://hpcwiki.weizmann.ac.il/en/home/ai_hub)\n",
    "\n",
    "•\tLink to our WEXAC [Jupyter hub](https://access.wexac.weizmann.ac.il:8000/hub/login) (you'll need a WEXAC user)\n"
   ]
  },
  {
   "cell_type": "markdown",
   "id": "30889359-7794-4088-99db-24b73eb9b293",
   "metadata": {},
   "source": [
    "## Intoduction\n",
    "Short intro to machine learning can be found [here](https://www.youtube.com/watch?v=ukzFI9rgwfU)\n",
    "\n",
    "K Nearest Neighbours: \n",
    "KNN is a simple supervised machine learning (ML) algorithm that can be used for classification or regression tasks, and is also frequently used in missing value imputation. It is based on the idea that the closer an observation is to a set of other observations - it is most likely of a \"similar\" nature. We can therefore classify unforeseen points based on the values of the closest existing points. By choosing K, the user can select the number of nearby observations to use in the algorithm. \n",
    "For classification, a majority vote is often used to determine under which class a new observation should fall into: find the K nearest neighbours, and check out of\n",
    "these K neighbours which label is the most common - and classify the new observation with this label.\n",
    "In this exercise you will implement a K-nearest neighbours algorithm on the famous built-in Iris dataset in Python. We will do this in few small steps. \n",
    "\n",
    "Please write all your answer as functions and not scripts."
   ]
  },
  {
   "cell_type": "markdown",
   "id": "eed63ae1-3585-4d9b-a93b-a0dc9ad18ba9",
   "metadata": {},
   "source": [
    "## Tutorial\n",
    "\n",
    "#### 1. Read the built-in dataset and split it to train and test subsets:\n",
    "\n",
    "a. Write your imports in the first box (add here all the tutorial imports)\n",
    "\n",
    "b. Write a function that will open the dataset and split it to training and testing with the default parameters: random_state=42  (42=\"the meaning of life, the universe, and everything\"...) and test_size=20 (20 samples), and run it (there are other intersting parameters like stratify, please do not change the defults). Print the shape of the four output matrices.\n",
    "\n",
    "c. What are the features and targets in the dataset? \n",
    "\n",
    "d. Load as dataFrame and print the statistical desription of the data.\n",
    "\n",
    "Hints:\n",
    "\n",
    "A. Use the sklearn function which provides an object that has properties `data` and `target` returning the data and the labels respectively, and `feature_names` and `target_names` returning their descriptions (see [here](https://scikit-learn.org/stable/modules/generated/sklearn.datasets.load_iris.html) for more details)\n",
    "\n",
    "B. To split the the data between training and testing, use [train_test_split](https://scikit-learn.org/stable/modules/generated/sklearn.model_selection.train_test_split.html) - and check its parameters."
   ]
  },
  {
   "cell_type": "code",
   "execution_count": 1,
   "id": "b4cb0932-0fd4-4411-8ebe-25c622537ba9",
   "metadata": {},
   "outputs": [],
   "source": [
    "# Imports\n",
    "import pandas as pd\n",
    "from sklearn import datasets\n",
    "import numpy as np\n",
    "from sklearn.model_selection import train_test_split\n",
    "from sklearn.metrics import pairwise_distances\n",
    "import matplotlib.pyplot as plt\n",
    "from sklearn.neighbors import KNeighborsClassifier"
   ]
  },
  {
   "cell_type": "code",
   "execution_count": 2,
   "id": "248b8e03-b94e-449e-a6e0-5697a9c9e9e0",
   "metadata": {},
   "outputs": [
    {
     "name": "stdout",
     "output_type": "stream",
     "text": [
      "X_train: (130, 4)\n",
      "X_test: (20, 4)\n",
      "y_train: (130,)\n",
      "y_test: (20,)\n"
     ]
    }
   ],
   "source": [
    "# Question 1b \n",
    "def load_and_split():\n",
    "    iris=datasets.load_iris()\n",
    "    X_train, X_test, y_train, y_test = train_test_split(iris.data,iris.target,test_size=20, random_state=42)\n",
    "    print(\"X_train:\", X_train.shape)\n",
    "    print(\"X_test:\", X_test.shape)\n",
    "    print(\"y_train:\", y_train.shape)\n",
    "    print(\"y_test:\", y_test.shape)\n",
    "    return  X_train, X_test, y_train, y_test\n",
    "\n",
    "X_train, X_test, Y_train, Y_test = load_and_split()"
   ]
  },
  {
   "cell_type": "code",
   "execution_count": 3,
   "id": "30a84cd4-d562-4645-892e-5a408042bc6a",
   "metadata": {},
   "outputs": [],
   "source": [
    "# Question 1c\n",
    "The features are the Xs - which represents the features of the flower, the targets are the Ys which represents the kind of the flower."
   ]
  },
  {
   "cell_type": "code",
   "execution_count": 123,
   "id": "167e8386",
   "metadata": {},
   "outputs": [
    {
     "data": {
      "text/html": [
       "<div>\n",
       "<style scoped>\n",
       "    .dataframe tbody tr th:only-of-type {\n",
       "        vertical-align: middle;\n",
       "    }\n",
       "\n",
       "    .dataframe tbody tr th {\n",
       "        vertical-align: top;\n",
       "    }\n",
       "\n",
       "    .dataframe thead th {\n",
       "        text-align: right;\n",
       "    }\n",
       "</style>\n",
       "<table border=\"1\" class=\"dataframe\">\n",
       "  <thead>\n",
       "    <tr style=\"text-align: right;\">\n",
       "      <th></th>\n",
       "      <th>sepal length (cm)</th>\n",
       "      <th>sepal width (cm)</th>\n",
       "      <th>petal length (cm)</th>\n",
       "      <th>petal width (cm)</th>\n",
       "      <th>species</th>\n",
       "    </tr>\n",
       "  </thead>\n",
       "  <tbody>\n",
       "    <tr>\n",
       "      <th>count</th>\n",
       "      <td>150.000000</td>\n",
       "      <td>150.000000</td>\n",
       "      <td>150.000000</td>\n",
       "      <td>150.000000</td>\n",
       "      <td>150.000000</td>\n",
       "    </tr>\n",
       "    <tr>\n",
       "      <th>mean</th>\n",
       "      <td>5.843333</td>\n",
       "      <td>3.057333</td>\n",
       "      <td>3.758000</td>\n",
       "      <td>1.199333</td>\n",
       "      <td>1.000000</td>\n",
       "    </tr>\n",
       "    <tr>\n",
       "      <th>std</th>\n",
       "      <td>0.828066</td>\n",
       "      <td>0.435866</td>\n",
       "      <td>1.765298</td>\n",
       "      <td>0.762238</td>\n",
       "      <td>0.819232</td>\n",
       "    </tr>\n",
       "    <tr>\n",
       "      <th>min</th>\n",
       "      <td>4.300000</td>\n",
       "      <td>2.000000</td>\n",
       "      <td>1.000000</td>\n",
       "      <td>0.100000</td>\n",
       "      <td>0.000000</td>\n",
       "    </tr>\n",
       "    <tr>\n",
       "      <th>25%</th>\n",
       "      <td>5.100000</td>\n",
       "      <td>2.800000</td>\n",
       "      <td>1.600000</td>\n",
       "      <td>0.300000</td>\n",
       "      <td>0.000000</td>\n",
       "    </tr>\n",
       "    <tr>\n",
       "      <th>50%</th>\n",
       "      <td>5.800000</td>\n",
       "      <td>3.000000</td>\n",
       "      <td>4.350000</td>\n",
       "      <td>1.300000</td>\n",
       "      <td>1.000000</td>\n",
       "    </tr>\n",
       "    <tr>\n",
       "      <th>75%</th>\n",
       "      <td>6.400000</td>\n",
       "      <td>3.300000</td>\n",
       "      <td>5.100000</td>\n",
       "      <td>1.800000</td>\n",
       "      <td>2.000000</td>\n",
       "    </tr>\n",
       "    <tr>\n",
       "      <th>max</th>\n",
       "      <td>7.900000</td>\n",
       "      <td>4.400000</td>\n",
       "      <td>6.900000</td>\n",
       "      <td>2.500000</td>\n",
       "      <td>2.000000</td>\n",
       "    </tr>\n",
       "  </tbody>\n",
       "</table>\n",
       "</div>"
      ],
      "text/plain": [
       "       sepal length (cm)  sepal width (cm)  petal length (cm)  \\\n",
       "count         150.000000        150.000000         150.000000   \n",
       "mean            5.843333          3.057333           3.758000   \n",
       "std             0.828066          0.435866           1.765298   \n",
       "min             4.300000          2.000000           1.000000   \n",
       "25%             5.100000          2.800000           1.600000   \n",
       "50%             5.800000          3.000000           4.350000   \n",
       "75%             6.400000          3.300000           5.100000   \n",
       "max             7.900000          4.400000           6.900000   \n",
       "\n",
       "       petal width (cm)     species  \n",
       "count        150.000000  150.000000  \n",
       "mean           1.199333    1.000000  \n",
       "std            0.762238    0.819232  \n",
       "min            0.100000    0.000000  \n",
       "25%            0.300000    0.000000  \n",
       "50%            1.300000    1.000000  \n",
       "75%            1.800000    2.000000  \n",
       "max            2.500000    2.000000  "
      ]
     },
     "execution_count": 123,
     "metadata": {},
     "output_type": "execute_result"
    }
   ],
   "source": [
    "# Question 1d\n",
    "def load_and_split_df():\n",
    "    iris=datasets.load_iris()\n",
    "    iris_df=pd.DataFrame(data=iris.data, columns=iris.feature_names)\n",
    "    iris_df['species'] = iris.target\n",
    "    return  iris_df.describe()\n",
    "\n",
    "load_and_split_df()"
   ]
  },
  {
   "cell_type": "markdown",
   "id": "f351ab79-c980-4d04-a620-5f4db63ee8b5",
   "metadata": {},
   "source": [
    "#### 2. Distance function: \n",
    "\n",
    "Write a function `calc_distance` that calculates the distance between a given point and an array of points. Different distance measures might be used, pick one that is simple. Test it on this input. A simple test that is easy to check by a calculator (or by hand) is alway recommended in your code. \n",
    "\n",
    "`calc_distance(X_train[0,:], X_train[:4,:])`\n",
    "\n",
    "Hint: find a function that does it (e.g. in sklearn) or write it yourself. Check that the point shape is correct."
   ]
  },
  {
   "cell_type": "code",
   "execution_count": 124,
   "id": "69b6ea73-5412-41b7-96a1-57347e652e16",
   "metadata": {},
   "outputs": [
    {
     "data": {
      "text/plain": [
       "array([0.        , 3.9306488 , 0.41231056, 4.76025209])"
      ]
     },
     "execution_count": 124,
     "metadata": {},
     "output_type": "execute_result"
    }
   ],
   "source": [
    "# Question 2 \n",
    "def calc_distance(x,y):\n",
    "    dist = pairwise_distances([x], y, metric='euclidean').flatten()\n",
    "    return dist\n",
    "dist=calc_distance(X_train[0,:], X_train[:4,:])\n",
    "dist"
   ]
  },
  {
   "cell_type": "markdown",
   "id": "64219604-e98a-4c99-9161-dda391f688e6",
   "metadata": {},
   "source": [
    "#### 3. K Nearest neighbours: \n",
    "\n",
    "Write a function that accepts an input value x0 and searches the training dataset for the k nearest neighbours to x0 using the function you've written, then predicts the input's label according to a majority vote. Test your function for the first row of *the test set* with k=7:\n",
    "\n",
    "knn(k,X_test[0,:] )\n",
    "\n",
    "Hint: \n",
    "You can calculate all the distances and then sort the distances in ascending order. Then, choose the k first elements. With these k nearest neighbours, do the \"voting\", i.e. find the most common label amongst them. \n"
   ]
  },
  {
   "cell_type": "code",
   "execution_count": 125,
   "id": "4ee41b31-28b5-472b-b472-47277513ab5a",
   "metadata": {},
   "outputs": [
    {
     "name": "stdout",
     "output_type": "stream",
     "text": [
      "0\n"
     ]
    }
   ],
   "source": [
    "# Question 3\n",
    "def sort_and_predict(x0,X_train,Y_train,k):\n",
    "    dist=calc_distance(x0, X_train)\n",
    "    dist = np.array(dist)  \n",
    "    sorted_indices = np.argsort(dist)[:k]\n",
    "    y=Y_train[sorted_indices]\n",
    "    values, counts = np.unique(y, return_counts=True)\n",
    "    most_common_index = np.argmax(counts)\n",
    "    most_common_label = values[most_common_index]\n",
    "    return most_common_label\n",
    "\n",
    "tag = sort_and_predict(X_train[0, :], X_train,Y_train, 7)\n",
    "\n",
    "print(tag)"
   ]
  },
  {
   "cell_type": "markdown",
   "id": "64d084ca-688f-46a0-9b4d-9b4c5afb6b25",
   "metadata": {},
   "source": [
    "#### 4. Accuracy:\n",
    "\n",
    "a. Calculate the accuracy (as a percentage) of the above prediction using the test dataset. Run it for k=7.\n",
    "\n",
    "Hint: \n",
    "Calculate the prediction given to every element of the test data and compare it to the expected labels from the test. Calculate the fraction of correctly predicted items to the overall number of items.\n",
    "\n",
    "b. Think about the time for training and for testing. Is this method efficient for large dataset with many samples and features? Why?\n"
   ]
  },
  {
   "cell_type": "markdown",
   "id": "14e83c24-9d70-4f7d-bbd0-a7e6a8ab9b91",
   "metadata": {},
   "source": [
    "##### Answer 4: \n"
   ]
  },
  {
   "cell_type": "code",
   "execution_count": 140,
   "id": "9c4780f4-b9dc-4d1f-9fba-d8d5d587e250",
   "metadata": {},
   "outputs": [
    {
     "name": "stdout",
     "output_type": "stream",
     "text": [
      "0.95\n"
     ]
    }
   ],
   "source": [
    "# Quesion 4 \n",
    "def prediction_accuracy(X_test,Y_test,k,X_train,Y_train):\n",
    "    X_test=np.array(X_test)\n",
    "    tag=[]\n",
    "    for row in X_test:\n",
    "        tag.append(sort_and_predict(row,X_train,Y_train,k))\n",
    "    accuracy=np.sum(tag == Y_test) / len(Y_test)\n",
    "    return accuracy\n",
    "\n",
    "k=7 \n",
    "accuracy=prediction_accuracy(X_test,Y_test,k,X_train,Y_train)\n",
    "print(accuracy)"
   ]
  },
  {
   "cell_type": "markdown",
   "id": "a83189aa-326f-4632-b9f0-4501df5505dd",
   "metadata": {},
   "source": [
    "#### 5. Dependence on k:\n",
    "\n",
    "Write a function that calculates the accuracy as a function of k and plots accuracy vs. k.\n",
    "\n",
    "Hint: use `plot` function in `matplotlib.pyplot`.\n"
   ]
  },
  {
   "cell_type": "code",
   "execution_count": 155,
   "id": "1a7e6c9e-c245-4140-99f3-da6408a014df",
   "metadata": {},
   "outputs": [
    {
     "data": {
      "image/png": "[encoded data removed]",
      "text/plain": [
       "<Figure size 640x480 with 1 Axes>"
      ]
     },
     "metadata": {},
     "output_type": "display_data"
    }
   ],
   "source": [
    "# Question 5 \n",
    "def accuracy_per_k(X_test,Y_test,X_train,Y_train,Range):\n",
    "    accuracy=[]\n",
    "    for k in Range:\n",
    "        accuracy.append(prediction_accuracy(X_test,Y_test,k,X_train,Y_train))\n",
    "    return accuracy\n",
    "        \n",
    "        \n",
    "Ks=range(1,121)        \n",
    "accuracy=accuracy_per_k(X_test,Y_test,X_train,Y_train,Ks)\n",
    "plt.plot(Ks, accuracy)\n",
    "plt.xlabel('k')\n",
    "plt.ylabel('Accuracy')\n",
    "plt.title('Accuracy vs k')\n",
    "plt.ylim(0, 1.2)\n",
    "plt.show()"
   ]
  },
  {
   "cell_type": "markdown",
   "id": "16832fc7-6c4b-4757-84a3-b78b28b41bdc",
   "metadata": {},
   "source": [
    "## 6.  Main function: \n",
    "\n",
    "a. Write a main function that contains loading the data and calculating the accuracy as a function of k (k=1,2,..15). \n",
    "\n",
    "b. Run it 20 times to check for variations (with random_state=None) with one plot of mean and STD as an output. \n",
    "\n",
    "c. What do you learn from it? Which values of k are better?\n",
    "\n",
    "Hint: Can you see a differnce between odd and even values of k?"
   ]
  },
  {
   "cell_type": "code",
   "execution_count": 180,
   "id": "b99b0c3e-4e43-44a6-992e-26c8c1dac7d7",
   "metadata": {},
   "outputs": [],
   "source": [
    "# Question 6a\n",
    "def main(RandState,largest_k):\n",
    "    iris=datasets.load_iris()\n",
    "    X_train, X_test, y_train, y_test = train_test_split(iris.data,iris.target,test_size=20, random_state=RandState)\n",
    "    Ks=range(1,largest_k+1)\n",
    "    accuracy=accuracy_per_k(X_test,Y_test,X_train,Y_train,Ks)\n",
    "    return accuracy\n"
   ]
  },
  {
   "cell_type": "code",
   "execution_count": 181,
   "id": "460d30b3-bacb-4144-9023-a6ecc3ab31da",
   "metadata": {},
   "outputs": [
    {
     "name": "stdout",
     "output_type": "stream",
     "text": [
      "[0.35   0.3575 0.325  0.3275 0.32   0.295  0.3025 0.3025 0.305  0.315\n",
      " 0.2975 0.2875 0.29   0.3275 0.3025]\n"
     ]
    },
    {
     "data": {
      "text/plain": [
       "<matplotlib.legend.Legend at 0x146f7770a7d0>"
      ]
     },
     "execution_count": 181,
     "metadata": {},
     "output_type": "execute_result"
    },
    {
     "data": {
      "image/png": "[encoded data removed]",
      "text/plain": [
       "<Figure size 640x480 with 1 Axes>"
      ]
     },
     "metadata": {},
     "output_type": "display_data"
    }
   ],
   "source": [
    "# Question 6b\n",
    "accuracy = np.empty((0, 15))\n",
    "for n in range(1,21):\n",
    "    new_row=main(None,15)\n",
    "    # print(new_row)\n",
    "    accuracy = np.vstack([accuracy, new_row])\n",
    "\n",
    "means = np.mean(accuracy, axis=0)\n",
    "stds = np.std(accuracy, axis=0)\n",
    "\n",
    "print(means)\n",
    "plt.plot(range(1,16), means, label='Mean')\n",
    "plt.plot(range(1,16), stds, label='Std')\n",
    "\n",
    "plt.xlabel('k')\n",
    "plt.ylabel('Value')\n",
    "plt.title('Mean and Standard Deviation vs k')\n",
    "plt.legend()"
   ]
  },
  {
   "cell_type": "markdown",
   "id": "23e77c9e-5903-44b8-ae99-742fc0d71955",
   "metadata": {},
   "source": [
    "##### Answer 6c: \n"
   ]
  },
  {
   "cell_type": "markdown",
   "id": "6266a7fc-a158-4040-b9b1-3791e7bc95c8",
   "metadata": {},
   "source": [
    "#### 7. Scikit-learn KNN classifier:\n",
    "\n",
    "a. Use sklearn’s [KNN classifier](https://scikit-learn.org/stable/modules/generated/sklearn.neighbors.KNeighborsClassifier.html) to write the function calc_accuracy_sklearn that Calculate the accuracy (as a percentage) on the test data. Run it for k=7 and compare the result with question 4. \n",
    "\n",
    "b. What are the advantages of using the sklearn module for such a simple classifier?"
   ]
  },
  {
   "cell_type": "code",
   "execution_count": 7,
   "id": "08affcda-e7a6-46b8-b5a0-01356524168b",
   "metadata": {},
   "outputs": [
    {
     "name": "stdout",
     "output_type": "stream",
     "text": [
      "0.95\n"
     ]
    }
   ],
   "source": [
    "# Question 7a\n",
    "def calc_accuracy_sklearn(X_train, Y_train, X_test, Y_test, k):\n",
    "    knn = KNeighborsClassifier(n_neighbors=k)\n",
    "    knn.fit(X_train, Y_train)\n",
    "    tag = knn.predict(X_test)\n",
    "    accuracy=np.sum(tag == Y_test) / len(Y_test)\n",
    "    return accuracy\n",
    "\n",
    "\n",
    "accuracy=calc_accuracy_sklearn(X_train, Y_train, X_test, Y_test, 7)\n",
    "print(accuracy)\n"
   ]
  },
  {
   "cell_type": "markdown",
   "id": "48b165a9-8751-465f-9e17-67f5978e47fe",
   "metadata": {},
   "source": [
    "##### Answer 7b:\n"
   ]
  },
  {
   "cell_type": "code",
   "execution_count": null,
   "id": "fc5f1828-aa44-4788-ae22-c22dd073505e",
   "metadata": {},
   "outputs": [],
   "source": [
    "No use of loops"
   ]
  },
  {
   "cell_type": "markdown",
   "id": "7ebf8695-0f87-4bda-9a06-94d0586dd47d",
   "metadata": {},
   "source": [
    "#### 8. Scatter plot:\n",
    "\n",
    "a. Plot the dataset as a scatter plot for features 0 and 2 setting the colors of the points in the plot based on their label, and write the feature names on the axis.\n",
    "\n",
    "b. What can you learn from this plot?\n",
    "\n",
    "c. Bonus (optional): plot the boundary display for features 0 and 2 using [DecisionBoundaryDisplay](https://scikit-learn.org/stable/modules/generated/sklearn.inspection.DecisionBoundaryDisplay.html)"
   ]
  },
  {
   "cell_type": "code",
   "execution_count": 28,
   "id": "3452d268-ef01-45d2-a57f-a6bfeb8d5094",
   "metadata": {},
   "outputs": [
    {
     "data": {
      "text/plain": [
       "<matplotlib.legend.Legend at 0x146d533785b0>"
      ]
     },
     "execution_count": 28,
     "metadata": {},
     "output_type": "execute_result"
    },
    {
     "data": {
      "image/png": "[encoded data removed]",
      "text/plain": [
       "<Figure size 640x480 with 1 Axes>"
      ]
     },
     "metadata": {},
     "output_type": "display_data"
    }
   ],
   "source": [
    "# Question 8a\n",
    "iris=datasets.load_iris()\n",
    "feature_names = iris.feature_names\n",
    "label_names = iris.target_names\n",
    "x_label=feature_names[0]\n",
    "y_label=feature_names[2]\n",
    "\n",
    "data_0_x=X_train[Y_train==0,0]\n",
    "data_0_y=X_train[Y_train==0,2]\n",
    "data_1_x=X_train[Y_train==1,0]\n",
    "data_1_y=X_train[Y_train==1,2]\n",
    "data_2_x=X_train[Y_train==2,0]\n",
    "data_2_y=X_train[Y_train==2,2]\n",
    "\n",
    "plt.scatter(data_0_x,data_0_y,label=label_names[0])\n",
    "plt.scatter(data_1_x,data_1_y,label=label_names[1])\n",
    "plt.scatter(data_2_x,data_2_y,label=label_names[2])\n",
    "plt.xlabel(x_label)\n",
    "plt.ylabel(y_label)\n",
    "plt.legend()"
   ]
  },
  {
   "cell_type": "markdown",
   "id": "b00d9e26-f984-4d7f-889f-1a2319fe1e5b",
   "metadata": {},
   "source": [
    "##### Answer 8b\n",
    "\n"
   ]
  },
  {
   "cell_type": "code",
   "execution_count": 12,
   "id": "e94e4ea2-0e85-4ed0-b0af-69924b177779",
   "metadata": {},
   "outputs": [],
   "source": [
    "# 8c\n"
   ]
  }
 ],
 "metadata": {
  "kernelspec": {
   "display_name": "aihub_env",
   "language": "python",
   "name": "aihub_env"
  },
  "language_info": {
   "codemirror_mode": {
    "name": "ipython",
    "version": 3
   },
   "file_extension": ".py",
   "mimetype": "text/x-python",
   "name": "python",
   "nbconvert_exporter": "python",
   "pygments_lexer": "ipython3",
   "version": "3.10.11"
  }
 },
 "nbformat": 4,
 "nbformat_minor": 5
}
